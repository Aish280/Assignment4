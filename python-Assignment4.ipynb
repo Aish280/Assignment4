{
 "cells": [
  {
   "cell_type": "code",
   "execution_count": 1,
   "metadata": {},
   "outputs": [
    {
     "name": "stdout",
     "output_type": "stream",
     "text": [
      "maximum is : 18\n",
      "None\n"
     ]
    }
   ],
   "source": [
    "# 1)python function to find the max of three numbers\n",
    "def maximum(a,b,c):\n",
    "  if a>b and a>c:\n",
    "    print(\"maximum is :\",a)\n",
    "  elif b>a and b>c:\n",
    "    print(\"maximum is :\",b)\n",
    "  else:\n",
    "    print(\"maximum is :\",c)\n",
    "a=12\n",
    "b=6\n",
    "c=18\n",
    "print(maximum(a,b,c))"
   ]
  },
  {
   "cell_type": "code",
   "execution_count": 2,
   "metadata": {},
   "outputs": [
    {
     "name": "stdout",
     "output_type": "stream",
     "text": [
      "enter the string:network\n",
      "\n",
      "The original string= network\n",
      "The reversed string= krowten\n"
     ]
    }
   ],
   "source": [
    "# 2)python program to reverse the string\n",
    "string=input(\"enter the string:\")\n",
    "string2=''\n",
    "for i in string:\n",
    "    string2=i+string2\n",
    "print(\"\\nThe original string=\",string)\n",
    "print(\"The reversed string=\",string2)"
   ]
  },
  {
   "cell_type": "code",
   "execution_count": 3,
   "metadata": {},
   "outputs": [
    {
     "name": "stdout",
     "output_type": "stream",
     "text": [
      "enter a number: 4\n",
      " It is not a prime number\n"
     ]
    }
   ],
   "source": [
    "# 3)python function to check whether the number is prime or not\n",
    "num=int(input(\"enter a number: \"))\n",
    "for i in range(2,num):\n",
    "    if num %i ==0:\n",
    "        print(\" It is not a prime number\")\n",
    "        break\n",
    "    else:\n",
    "         print(\" It is a prime number\")"
   ]
  },
  {
   "cell_type": "code",
   "execution_count": 6,
   "metadata": {},
   "outputs": [
    {
     "name": "stdout",
     "output_type": "stream",
     "text": [
      "enter any number:495\n",
      "Given number is not palindrome\n"
     ]
    }
   ],
   "source": [
    "# 4)python program to find a given number is palindrome or not using try,except,else and finally block\n",
    "num=input(\"enter any number:\")\n",
    "try:\n",
    "    x=int(num)\n",
    "    if num==num[::-1]:\n",
    "        print(\"Given number is palindrome\")\n",
    "    else:\n",
    "        print(\"Given number is not palindrome\")\n",
    "except:\n",
    "        print(\"Invalid number\")"
   ]
  },
  {
   "cell_type": "code",
   "execution_count": 7,
   "metadata": {},
   "outputs": [
    {
     "name": "stdout",
     "output_type": "stream",
     "text": [
      "55\n"
     ]
    }
   ],
   "source": [
    " # 5)python program to find sum of squares for n natural numbers\n",
    "def squaresum(n):\n",
    "    return (n*(n+1)*(2*n+1))//6\n",
    "n=5\n",
    "print(squaresum(n))"
   ]
  }
 ],
 "metadata": {
  "kernelspec": {
   "display_name": "Python 3",
   "language": "python",
   "name": "python3"
  },
  "language_info": {
   "codemirror_mode": {
    "name": "ipython",
    "version": 3
   },
   "file_extension": ".py",
   "mimetype": "text/x-python",
   "name": "python",
   "nbconvert_exporter": "python",
   "pygments_lexer": "ipython3",
   "version": "3.8.3"
  }
 },
 "nbformat": 4,
 "nbformat_minor": 4
}
